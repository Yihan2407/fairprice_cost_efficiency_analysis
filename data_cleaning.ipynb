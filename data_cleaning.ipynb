{
 "cells": [
  {
   "cell_type": "markdown",
   "metadata": {},
   "source": [
    "# Setup"
   ]
  },
  {
   "cell_type": "code",
   "execution_count": 1,
   "metadata": {},
   "outputs": [],
   "source": [
    "import pandas as pd\n",
    "import json\n",
    "import re"
   ]
  },
  {
   "cell_type": "markdown",
   "metadata": {},
   "source": [
    "# Read Dataset"
   ]
  },
  {
   "cell_type": "code",
   "execution_count": 2,
   "metadata": {},
   "outputs": [],
   "source": [
    "df = pd.read_csv('product_info_modified.csv').drop(columns=['Unnamed: 0'])"
   ]
  },
  {
   "cell_type": "code",
   "execution_count": 4,
   "metadata": {},
   "outputs": [
    {
     "data": {
      "text/html": [
       "<div>\n",
       "<style scoped>\n",
       "    .dataframe tbody tr th:only-of-type {\n",
       "        vertical-align: middle;\n",
       "    }\n",
       "\n",
       "    .dataframe tbody tr th {\n",
       "        vertical-align: top;\n",
       "    }\n",
       "\n",
       "    .dataframe thead th {\n",
       "        text-align: right;\n",
       "    }\n",
       "</style>\n",
       "<table border=\"1\" class=\"dataframe\">\n",
       "  <thead>\n",
       "    <tr style=\"text-align: right;\">\n",
       "      <th></th>\n",
       "      <th>product_name</th>\n",
       "      <th>price</th>\n",
       "      <th>product_weight</th>\n",
       "      <th>nutritional_elements</th>\n",
       "    </tr>\n",
       "  </thead>\n",
       "  <tbody>\n",
       "    <tr>\n",
       "      <th>0</th>\n",
       "      <td>Skinless Chicken Breast</td>\n",
       "      <td>$4.55</td>\n",
       "      <td>240g</td>\n",
       "      <td>{\"Attributes\": \"Per Serving (100g)\", \"Energy\":...</td>\n",
       "    </tr>\n",
       "    <tr>\n",
       "      <th>1</th>\n",
       "      <td>Seng Choon Eggs - Farm Fresh</td>\n",
       "      <td>$3.65</td>\n",
       "      <td>550g</td>\n",
       "      <td>{\"Attributes\": \"Per Serving\", \"Energy\": \"68kca...</td>\n",
       "    </tr>\n",
       "    <tr>\n",
       "      <th>2</th>\n",
       "      <td>Chew's Fresh Eggs with Vitamin E</td>\n",
       "      <td>$3.65</td>\n",
       "      <td>600g</td>\n",
       "      <td>{\"Attributes\": \"Per Serving (50g)\", \"Energy\": ...</td>\n",
       "    </tr>\n",
       "    <tr>\n",
       "      <th>3</th>\n",
       "      <td>Dasoon Premium Fresh Eggs</td>\n",
       "      <td>$5.10</td>\n",
       "      <td>900g</td>\n",
       "      <td>{\"Attributes\": \"Per Serving (60g)\", \"Energy\": ...</td>\n",
       "    </tr>\n",
       "    <tr>\n",
       "      <th>4</th>\n",
       "      <td>Nature's Wonders Baked Nuts - Almonds</td>\n",
       "      <td>$5.80</td>\n",
       "      <td>200g</td>\n",
       "      <td>{\"Attributes\": \"Per Serving (30g)\", \"Energy\": ...</td>\n",
       "    </tr>\n",
       "  </tbody>\n",
       "</table>\n",
       "</div>"
      ],
      "text/plain": [
       "                            product_name  price product_weight  \\\n",
       "0                Skinless Chicken Breast  $4.55           240g   \n",
       "1           Seng Choon Eggs - Farm Fresh  $3.65           550g   \n",
       "2       Chew's Fresh Eggs with Vitamin E  $3.65           600g   \n",
       "3              Dasoon Premium Fresh Eggs  $5.10           900g   \n",
       "4  Nature's Wonders Baked Nuts - Almonds  $5.80           200g   \n",
       "\n",
       "                                nutritional_elements  \n",
       "0  {\"Attributes\": \"Per Serving (100g)\", \"Energy\":...  \n",
       "1  {\"Attributes\": \"Per Serving\", \"Energy\": \"68kca...  \n",
       "2  {\"Attributes\": \"Per Serving (50g)\", \"Energy\": ...  \n",
       "3  {\"Attributes\": \"Per Serving (60g)\", \"Energy\": ...  \n",
       "4  {\"Attributes\": \"Per Serving (30g)\", \"Energy\": ...  "
      ]
     },
     "execution_count": 4,
     "metadata": {},
     "output_type": "execute_result"
    }
   ],
   "source": [
    "df.head()"
   ]
  },
  {
   "cell_type": "code",
   "execution_count": null,
   "metadata": {},
   "outputs": [],
   "source": [
    "# Parse json to dict objects\n",
    "df['nutritional_elements_dict'] = df['nutritional_elements'].apply(lambda x: json.loads(x))"
   ]
  },
  {
   "cell_type": "markdown",
   "metadata": {},
   "source": [
    "#### Extract numerical characters from `price` and `product_weight`"
   ]
  },
  {
   "cell_type": "code",
   "execution_count": 29,
   "metadata": {},
   "outputs": [],
   "source": [
    "df = (\n",
    "    df\n",
    "    .assign(\n",
    "        price_num = lambda x: x['price'].apply(lambda x: float(x.replace('$', ''))),\n",
    "        product_weight_num = lambda x: x['product_weight'].str.extract('(\\d+)', expand=False)\n",
    "    )\n",
    ")"
   ]
  },
  {
   "cell_type": "markdown",
   "metadata": {},
   "source": [
    "## Extract relevant nutritional information"
   ]
  },
  {
   "cell_type": "code",
   "execution_count": 113,
   "metadata": {},
   "outputs": [],
   "source": [
    "def parse_nutritional_value(\n",
    "        nutrition_facts: dict,\n",
    "        key: str):\n",
    "    \"\"\"\n",
    "    Parses the desired nutritional value from the dictionary of nutritional facts\n",
    "\n",
    "    :param nutrition_facts: dict to parse\n",
    "    :param key: key to parse\n",
    "    :return: serving size in numerical format (e.g., 100)\n",
    "    \"\"\"\n",
    "\n",
    "    if key in nutrition_facts:\n",
    "        to_parse = nutrition_facts[key]\n",
    "        if key == \"Attributes\":\n",
    "            match = re.search(r'\\((\\d+)', to_parse)\n",
    "            if match:\n",
    "                return match.group(1)\n",
    "        else:\n",
    "            return re.findall(r'([-+]?\\d*\\.?\\d+)', to_parse)[0]\n",
    "    return None"
   ]
  },
  {
   "cell_type": "code",
   "execution_count": 118,
   "metadata": {},
   "outputs": [],
   "source": [
    "df = df.assign(\n",
    "    serving_size = lambda x: x['nutritional_elements_dict'].apply(lambda x: parse_nutritional_value(x, \"Attributes\")),\n",
    "    calories = lambda x: x['nutritional_elements_dict'].apply(lambda x: parse_nutritional_value(x, \"Energy\")),\n",
    "    protein = lambda x: x['nutritional_elements_dict'].apply(lambda x: parse_nutritional_value(x, \"Protein\")),\n",
    "    carbohydrate = lambda x: x['nutritional_elements_dict'].apply(lambda x: parse_nutritional_value(x, \"Carbohydrate\")),\n",
    "    sugars = lambda x: x['nutritional_elements_dict'].apply(lambda x: parse_nutritional_value(x, \"Sugars\"))\n",
    ")"
   ]
  },
  {
   "cell_type": "markdown",
   "metadata": {},
   "source": [
    "#### Normalize price by serving size"
   ]
  },
  {
   "cell_type": "code",
   "execution_count": 120,
   "metadata": {},
   "outputs": [],
   "source": [
    "# Drop rows with missing service size\n",
    "df = df.dropna(subset=['serving_size'])"
   ]
  },
  {
   "cell_type": "code",
   "execution_count": 127,
   "metadata": {},
   "outputs": [],
   "source": [
    "# Get the number of servings per product, then find the price per serving\n",
    "df = (\n",
    "    df\n",
    "    .assign(\n",
    "        num_servings = lambda x: round(x['product_weight_num'].astype(float) / x['serving_size'].astype(float), 1),\n",
    "        price_per_serving = lambda x: round(x['price_num'] / x['num_servings'], 2)\n",
    "    )\n",
    ")"
   ]
  },
  {
   "cell_type": "markdown",
   "metadata": {},
   "source": [
    "#### Remove products without calories, protein values or price_per_serving"
   ]
  },
  {
   "cell_type": "code",
   "execution_count": 130,
   "metadata": {},
   "outputs": [],
   "source": [
    "df = df.dropna(subset=['calories', 'protein', 'price_per_serving'])"
   ]
  },
  {
   "cell_type": "markdown",
   "metadata": {},
   "source": [
    "#### Normalize to 24g of protein \n",
    "We use Optimum Nutrition's Gold Standard Whey Protein as a reference point, which is a very popular nutrition brand that typically caters towards bodybuilding."
   ]
  },
  {
   "cell_type": "code",
   "execution_count": 18,
   "metadata": {},
   "outputs": [
    {
     "data": {
      "text/html": [
       "<div>\n",
       "<style scoped>\n",
       "    .dataframe tbody tr th:only-of-type {\n",
       "        vertical-align: middle;\n",
       "    }\n",
       "\n",
       "    .dataframe tbody tr th {\n",
       "        vertical-align: top;\n",
       "    }\n",
       "\n",
       "    .dataframe thead th {\n",
       "        text-align: right;\n",
       "    }\n",
       "</style>\n",
       "<table border=\"1\" class=\"dataframe\">\n",
       "  <thead>\n",
       "    <tr style=\"text-align: right;\">\n",
       "      <th></th>\n",
       "      <th>product_name</th>\n",
       "      <th>price</th>\n",
       "      <th>product_weight</th>\n",
       "      <th>nutritional_elements</th>\n",
       "      <th>serving_size</th>\n",
       "      <th>price_num</th>\n",
       "      <th>product_weight_num</th>\n",
       "      <th>calories</th>\n",
       "      <th>protein</th>\n",
       "      <th>carbohydrate</th>\n",
       "      <th>sugars</th>\n",
       "      <th>num_servings</th>\n",
       "      <th>price_per_serving</th>\n",
       "      <th>num_servings_24g_protein</th>\n",
       "      <th>price_per_24g_protein</th>\n",
       "    </tr>\n",
       "  </thead>\n",
       "  <tbody>\n",
       "    <tr>\n",
       "      <th>0</th>\n",
       "      <td>Skinless Chicken Breast</td>\n",
       "      <td>$4.55</td>\n",
       "      <td>240g</td>\n",
       "      <td>{\"Attributes\": \"Per Serving (100g)\", \"Energy\":...</td>\n",
       "      <td>100</td>\n",
       "      <td>4.55</td>\n",
       "      <td>240</td>\n",
       "      <td>165.0</td>\n",
       "      <td>31.0</td>\n",
       "      <td>NaN</td>\n",
       "      <td>NaN</td>\n",
       "      <td>2.4</td>\n",
       "      <td>1.90</td>\n",
       "      <td>0.774194</td>\n",
       "      <td>1.47</td>\n",
       "    </tr>\n",
       "    <tr>\n",
       "      <th>1</th>\n",
       "      <td>Chew's Fresh Eggs with Vitamin E</td>\n",
       "      <td>$3.65</td>\n",
       "      <td>600g</td>\n",
       "      <td>{\"Attributes\": \"Per Serving (50g)\", \"Energy\": ...</td>\n",
       "      <td>50</td>\n",
       "      <td>3.65</td>\n",
       "      <td>600</td>\n",
       "      <td>70.0</td>\n",
       "      <td>6.6</td>\n",
       "      <td>1.4</td>\n",
       "      <td>0.0</td>\n",
       "      <td>12.0</td>\n",
       "      <td>0.30</td>\n",
       "      <td>3.636364</td>\n",
       "      <td>1.09</td>\n",
       "    </tr>\n",
       "    <tr>\n",
       "      <th>2</th>\n",
       "      <td>Dasoon Premium Fresh Eggs</td>\n",
       "      <td>$5.10</td>\n",
       "      <td>900g</td>\n",
       "      <td>{\"Attributes\": \"Per Serving (60g)\", \"Energy\": ...</td>\n",
       "      <td>60</td>\n",
       "      <td>5.10</td>\n",
       "      <td>900</td>\n",
       "      <td>75.0</td>\n",
       "      <td>7.7</td>\n",
       "      <td>70.0</td>\n",
       "      <td>0.0</td>\n",
       "      <td>15.0</td>\n",
       "      <td>0.34</td>\n",
       "      <td>3.116883</td>\n",
       "      <td>1.06</td>\n",
       "    </tr>\n",
       "    <tr>\n",
       "      <th>3</th>\n",
       "      <td>Nature's Wonders Baked Nuts - Almonds</td>\n",
       "      <td>$5.80</td>\n",
       "      <td>200g</td>\n",
       "      <td>{\"Attributes\": \"Per Serving (30g)\", \"Energy\": ...</td>\n",
       "      <td>30</td>\n",
       "      <td>5.80</td>\n",
       "      <td>200</td>\n",
       "      <td>150.0</td>\n",
       "      <td>7.7</td>\n",
       "      <td>13.0</td>\n",
       "      <td>0.7</td>\n",
       "      <td>6.7</td>\n",
       "      <td>0.87</td>\n",
       "      <td>3.116883</td>\n",
       "      <td>2.71</td>\n",
       "    </tr>\n",
       "    <tr>\n",
       "      <th>4</th>\n",
       "      <td>FairPrice Baked Almonds</td>\n",
       "      <td>$10.65</td>\n",
       "      <td>400g</td>\n",
       "      <td>{\"Attributes\": \"Per Serving (30g)\", \"Energy\": ...</td>\n",
       "      <td>30</td>\n",
       "      <td>10.65</td>\n",
       "      <td>400</td>\n",
       "      <td>212.0</td>\n",
       "      <td>7.0</td>\n",
       "      <td>9.2</td>\n",
       "      <td>1.5</td>\n",
       "      <td>13.3</td>\n",
       "      <td>0.80</td>\n",
       "      <td>3.428571</td>\n",
       "      <td>2.74</td>\n",
       "    </tr>\n",
       "  </tbody>\n",
       "</table>\n",
       "</div>"
      ],
      "text/plain": [
       "                            product_name   price product_weight  \\\n",
       "0                Skinless Chicken Breast   $4.55           240g   \n",
       "1       Chew's Fresh Eggs with Vitamin E   $3.65           600g   \n",
       "2              Dasoon Premium Fresh Eggs   $5.10           900g   \n",
       "3  Nature's Wonders Baked Nuts - Almonds   $5.80           200g   \n",
       "4                FairPrice Baked Almonds  $10.65           400g   \n",
       "\n",
       "                                nutritional_elements  serving_size  price_num  \\\n",
       "0  {\"Attributes\": \"Per Serving (100g)\", \"Energy\":...           100       4.55   \n",
       "1  {\"Attributes\": \"Per Serving (50g)\", \"Energy\": ...            50       3.65   \n",
       "2  {\"Attributes\": \"Per Serving (60g)\", \"Energy\": ...            60       5.10   \n",
       "3  {\"Attributes\": \"Per Serving (30g)\", \"Energy\": ...            30       5.80   \n",
       "4  {\"Attributes\": \"Per Serving (30g)\", \"Energy\": ...            30      10.65   \n",
       "\n",
       "   product_weight_num  calories  protein  carbohydrate  sugars  num_servings  \\\n",
       "0                 240     165.0     31.0           NaN     NaN           2.4   \n",
       "1                 600      70.0      6.6           1.4     0.0          12.0   \n",
       "2                 900      75.0      7.7          70.0     0.0          15.0   \n",
       "3                 200     150.0      7.7          13.0     0.7           6.7   \n",
       "4                 400     212.0      7.0           9.2     1.5          13.3   \n",
       "\n",
       "   price_per_serving  num_servings_24g_protein  price_per_24g_protein  \n",
       "0               1.90                  0.774194                   1.47  \n",
       "1               0.30                  3.636364                   1.09  \n",
       "2               0.34                  3.116883                   1.06  \n",
       "3               0.87                  3.116883                   2.71  \n",
       "4               0.80                  3.428571                   2.74  "
      ]
     },
     "execution_count": 18,
     "metadata": {},
     "output_type": "execute_result"
    }
   ],
   "source": [
    "df.head(5)"
   ]
  },
  {
   "cell_type": "code",
   "execution_count": 20,
   "metadata": {},
   "outputs": [],
   "source": [
    "WHEY_PROTEIN = 24\n",
    "\n",
    "df = df.assign(\n",
    "    num_servings_24g_protein = lambda x: WHEY_PROTEIN / x['protein'],\n",
    "    price_per_24g_protein = lambda x: round(x['price_per_serving'] * x['num_servings_24g_protein'], 2),\n",
    "    calories_per_24g_protein = lambda x: round(x['calories'] * x['num_servings_24g_protein'], 2),\n",
    "    carbs_per_24g_protein = lambda x: round(x['carbohydrate'] * x['num_servings_24g_protein'], 2),\n",
    "    sugar_per_24g_protein = lambda x: round(x['sugars'] * x['num_servings_24g_protein'], 2)\n",
    ")"
   ]
  },
  {
   "cell_type": "markdown",
   "metadata": {},
   "source": [
    "#### Drop dict column to store as csv"
   ]
  },
  {
   "cell_type": "code",
   "execution_count": 133,
   "metadata": {},
   "outputs": [],
   "source": [
    "(\n",
    "    df\n",
    "    .drop(\n",
    "        columns=['nutritional_elements_dict']\n",
    "    )\n",
    "    .to_csv('product_info_cleaned.csv')\n",
    ")"
   ]
  }
 ],
 "metadata": {
  "kernelspec": {
   "display_name": "ppenv",
   "language": "python",
   "name": "python3"
  },
  "language_info": {
   "codemirror_mode": {
    "name": "ipython",
    "version": 3
   },
   "file_extension": ".py",
   "mimetype": "text/x-python",
   "name": "python",
   "nbconvert_exporter": "python",
   "pygments_lexer": "ipython3",
   "version": "3.9.16"
  },
  "orig_nbformat": 4
 },
 "nbformat": 4,
 "nbformat_minor": 2
}
