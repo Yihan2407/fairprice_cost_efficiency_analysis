{
 "cells": [
  {
   "cell_type": "code",
   "execution_count": 1,
   "metadata": {},
   "outputs": [],
   "source": [
    "import os\n",
    "import pandas as pd\n",
    "import json\n",
    "from selenium import webdriver\n",
    "from selenium.webdriver.common.by import By\n",
    "from selenium.webdriver.common.by import By\n",
    "from selenium.webdriver.support.ui import WebDriverWait\n",
    "from selenium.webdriver.support import expected_conditions as EC\n",
    "from constants import FAIRPRICE_URL, DRIVER_PATH, PROTEIN_SOURCES, ELEMENT_CLASS_NAME\n",
    "from utils import parse_string_for_query\n",
    "\n",
    "os.environ['PATH'] += DRIVER_PATH"
   ]
  },
  {
   "cell_type": "markdown",
   "metadata": {},
   "source": [
    "Next steps:\n",
    "- Create for loop to loop through protein sources\n",
    "- Create inner for loop to loop through top 5 elements"
   ]
  },
  {
   "cell_type": "code",
   "execution_count": 4,
   "metadata": {},
   "outputs": [
    {
     "ename": "NameError",
     "evalue": "name 'nutrition_info' is not defined",
     "output_type": "error",
     "traceback": [
      "\u001b[1;31m---------------------------------------------------------------------------\u001b[0m",
      "\u001b[1;31mNameError\u001b[0m                                 Traceback (most recent call last)",
      "Cell \u001b[1;32mIn[4], line 47\u001b[0m\n\u001b[0;32m     40\u001b[0m         nutrition_info[innerText\u001b[39m.\u001b[39msplit(\u001b[39m\"\u001b[39m\u001b[39m\\n\u001b[39;00m\u001b[39m\"\u001b[39m)[\u001b[39m0\u001b[39m]] \u001b[39m=\u001b[39m innerText\u001b[39m.\u001b[39msplit(\u001b[39m\"\u001b[39m\u001b[39m\\n\u001b[39;00m\u001b[39m\"\u001b[39m)[\u001b[39m1\u001b[39m]\n\u001b[0;32m     42\u001b[0m \u001b[39m# Compile product information\u001b[39;00m\n\u001b[0;32m     43\u001b[0m product_info \u001b[39m=\u001b[39m {\n\u001b[0;32m     44\u001b[0m     \u001b[39m\"\u001b[39m\u001b[39mproduct_name\u001b[39m\u001b[39m\"\u001b[39m: product_name,\n\u001b[0;32m     45\u001b[0m     \u001b[39m\"\u001b[39m\u001b[39mprice\u001b[39m\u001b[39m\"\u001b[39m: price,\n\u001b[0;32m     46\u001b[0m     \u001b[39m\"\u001b[39m\u001b[39mproduct_weight\u001b[39m\u001b[39m\"\u001b[39m: product_weight,\n\u001b[1;32m---> 47\u001b[0m     \u001b[39m\"\u001b[39m\u001b[39mnutritional_elements\u001b[39m\u001b[39m\"\u001b[39m: nutrition_info\n\u001b[0;32m     48\u001b[0m }\n\u001b[0;32m     50\u001b[0m \u001b[39m# Convert nutritional information to JSON\u001b[39;00m\n\u001b[0;32m     51\u001b[0m product_info[\u001b[39m'\u001b[39m\u001b[39mnutritional_elements\u001b[39m\u001b[39m'\u001b[39m] \u001b[39m=\u001b[39m json\u001b[39m.\u001b[39mdumps(product_info[\u001b[39m'\u001b[39m\u001b[39mnutritional_elements\u001b[39m\u001b[39m'\u001b[39m])\n",
      "\u001b[1;31mNameError\u001b[0m: name 'nutrition_info' is not defined"
     ]
    }
   ],
   "source": [
    "# Initialise empty dataframe\n",
    "df_product_info = pd.DataFrame()\n",
    "\n",
    "# Access URL\n",
    "driver = webdriver.Chrome()\n",
    "driver.get(FAIRPRICE_URL + parse_string_for_query(PROTEIN_SOURCES[0]))\n",
    "driver.implicitly_wait(3)\n",
    "\n",
    "# Access product page\n",
    "elements = driver.find_elements(By.CLASS_NAME, ELEMENT_CLASS_NAME)\n",
    "if elements[5].is_displayed() and elements[5].is_enabled():\n",
    "    elements[5].click()\n",
    "\n",
    "# Get price\n",
    "price = WebDriverWait(driver, 10).until(\n",
    "    EC.presence_of_element_located((By.XPATH,\n",
    "                                    \"/html/body/div[1]/div/div[1]/div[2]/main/div/div[2]/div[1]/div[2]/div[3]/div[2]/div[1]/span/span\"))).text\n",
    "\n",
    "# Get product name\n",
    "product_name = WebDriverWait(driver, 10).until(\n",
    "    EC.presence_of_element_located((By.XPATH,\n",
    "                                    \"/html/body/div/div/div[1]/div[2]/main/div/div[2]/div[1]/div[2]/div[3]/div[2]/div[2]/span/span\"))).text\n",
    "\n",
    "# Get product weight\n",
    "product_weight = WebDriverWait(driver, 10).until(\n",
    "    EC.presence_of_element_located((By.XPATH,\n",
    "                                    \"/html/body/div/div/div[1]/div[2]/main/div/div[2]/div[1]/div[2]/div[3]/div[2]/div[2]/div/span[1]/span/span\"))).text\n",
    "\n",
    "# Get nutritional information\n",
    "try:\n",
    "    nutritional_elements = driver.find_elements(By.CLASS_NAME, \"sc-3zvnd-6\")\n",
    "except NoSuchElementException:\n",
    "    nutritional_elements = {}\n",
    "\n",
    "nutrition_info = {}\n",
    "# Parse nutritional information\n",
    "if nutritional_elements:\n",
    "    for element in nutritional_elements:\n",
    "        innerText = element.get_attribute(\"innerText\")\n",
    "        nutrition_info[innerText.split(\"\\n\")[0]] = innerText.split(\"\\n\")[1]\n",
    "\n",
    "# Compile product information\n",
    "product_info = {\n",
    "    \"product_name\": product_name,\n",
    "    \"price\": price,\n",
    "    \"product_weight\": product_weight,\n",
    "    \"nutritional_elements\": nutrition_info\n",
    "}\n",
    "\n",
    "# Convert nutritional information to JSON\n",
    "product_info['nutritional_elements'] = json.dumps(product_info['nutritional_elements'])"
   ]
  },
  {
   "cell_type": "code",
   "execution_count": 3,
   "metadata": {},
   "outputs": [
    {
     "data": {
      "text/plain": [
       "{'product_name': 'Zac Butchery Chicken Thigh Pack, Original',\n",
       " 'price': '$9.85',\n",
       " 'product_weight': '500 G',\n",
       " 'nutritional_elements': '[]'}"
      ]
     },
     "execution_count": 3,
     "metadata": {},
     "output_type": "execute_result"
    }
   ],
   "source": [
    "product_info"
   ]
  }
 ],
 "metadata": {
  "kernelspec": {
   "display_name": "ppenv",
   "language": "python",
   "name": "python3"
  },
  "language_info": {
   "codemirror_mode": {
    "name": "ipython",
    "version": 3
   },
   "file_extension": ".py",
   "mimetype": "text/x-python",
   "name": "python",
   "nbconvert_exporter": "python",
   "pygments_lexer": "ipython3",
   "version": "3.9.16"
  },
  "orig_nbformat": 4
 },
 "nbformat": 4,
 "nbformat_minor": 2
}
